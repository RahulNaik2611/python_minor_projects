print("                \\")
print("                \\\\")
print("                 \\%,     ,'     , ,. ")
print("                  \\%\\,';/J,\";\";\";;,,. ")
print("     ~.------------\\%;((`);)));`;;,.,-----------,~ ")
print("    ~~:           ,`;@)((;`,`((;(;;);;,`         :~~ ")
print("   ~~ :           ;`(@```))`~ ``; );(;));;,      : ~~ ")
print("  ~~  :            `X `(( `),    (;;);;;;`       :  ~~ ")
print(" ~~~~ :            / `) `` /;~   `;;;;;;;);,     : ~~~~ ")
print("~~~~  :           / , ` ,/` /     (`;;(;;;;,     : ~~~~ ")
print("  ~~~ :          (o  /]_/` /     ,);;;`;;;;;`,,  : ~~~ ")
print("   ~~ :           `~` `~`  `      ``;,  ``;\" ';, : ~~ ")
print("    ~~:                             `'   `'  `'  :~~ ")
print("     ~`-----------------------------------------`~")

print("Welcome to Treasure Island")
print("Your mission is to find the treasure.")

choice1 = input("You're at a crossroad. Where do you want to go? Type 'left' or 'right': ").lower()
if choice1 == 'left':
    # Continue in game
    choice2 = input("You've reached a lake. There is an island in the middle of the lake. Type 'wait' to wait for the boat or 'swim' to swim across: ").lower()
    if choice2 == "wait":
        print("You safely cross the lake and find the treasure. You win!")
    else:
        print("You got attacked by a hungry crocodile. Game over!")
else:
    print("You fell into a hole. Game over!")
